{
 "cells": [
  {
   "cell_type": "code",
   "execution_count": 1,
   "metadata": {},
   "outputs": [],
   "source": [
    "import sys\n",
    "import pandas as pd\n",
    "import numpy as np\n",
    "import scipy.stats as stats"
   ]
  },
  {
   "cell_type": "code",
   "execution_count": 2,
   "metadata": {},
   "outputs": [],
   "source": [
    "#input1 = 'searches.json'\n",
    "input1 = sys.argv[1]\n",
    "df = pd.stations = pd.read_json(input1, orient = 'records', lines=True)\n",
    "# print(df)"
   ]
  },
  {
   "cell_type": "code",
   "execution_count": 3,
   "metadata": {
    "scrolled": false
   },
   "outputs": [],
   "source": [
    "#odd uid show on a new search box\n",
    "odd = df.loc[df['uid']%2 == 1].reset_index(drop=True) #348 uid\n",
    "even = df.loc[df['uid']%2 == 0].reset_index(drop=True) #333 uid\n",
    "# print(odd)\n",
    "# print(even)"
   ]
  },
  {
   "cell_type": "code",
   "execution_count": 4,
   "metadata": {
    "scrolled": true
   },
   "outputs": [],
   "source": [
    "odd_search_more = odd.loc[odd['search_count'] > 0].reset_index(drop=True)  #98 uid search more than once \n",
    "#print(odd_search_more)\n",
    "odd_search_zero = odd.loc[odd['search_count'] == 0].reset_index(drop=True) # 250 uid\n",
    "#print(odd_search_zero)"
   ]
  },
  {
   "cell_type": "code",
   "execution_count": 5,
   "metadata": {
    "scrolled": false
   },
   "outputs": [],
   "source": [
    "even_search_more = even.loc[even['search_count'] > 0].reset_index(drop=True)  #111 uid search more than once \n",
    "#print(even_search_more)\n",
    "even_search_zero = even.loc[even['search_count'] == 0].reset_index(drop=True) # 222 uid\n",
    "#print(even_search_zero)"
   ]
  },
  {
   "cell_type": "code",
   "execution_count": 6,
   "metadata": {},
   "outputs": [],
   "source": [
    "#I was searching on how to count number of row and this site give me a hint\n",
    "#https://thispointer.com/pandas-count-rows-in-a-dataframe-all-or-those-only-that-satisfy-a-condition/\n",
    "#I realized i could just use .shape[0] to find row number\n",
    "odd_rows_more = odd_search_more.shape[0]\n",
    "odd_rows_zero = odd_search_zero.shape[0]\n",
    "even_rows_more = even_search_more.shape[0]\n",
    "even_rows_zero = even_search_zero.shape[0]\n",
    "# print(odd_rows_more)\n",
    "# print(odd_rows_zero)\n",
    "# print(even_rows_more)\n",
    "# print(even_rows_zero)"
   ]
  },
  {
   "cell_type": "code",
   "execution_count": 7,
   "metadata": {},
   "outputs": [
    {
     "name": "stdout",
     "output_type": "stream",
     "text": [
      "0.1676297094499566\n",
      "0.07059103623543486\n"
     ]
    }
   ],
   "source": [
    "contingency =[[even_rows_more,even_rows_zero],[odd_rows_more,odd_rows_zero]]\n",
    "chi2, p_value1, dof, expected = stats.chi2_contingency(contingency)\n",
    "\n",
    "p_value2 = stats.mannwhitneyu(even['search_count'],odd['search_count']).pvalue\n",
    "# print(chi2)\n",
    "print(p_value1)\n",
    "# print(dof)\n",
    "# print(expected)\n",
    "print(p_value2) "
   ]
  },
  {
   "cell_type": "code",
   "execution_count": 8,
   "metadata": {},
   "outputs": [],
   "source": [
    "#---------------------------------------------------------------Instructor"
   ]
  },
  {
   "cell_type": "code",
   "execution_count": 9,
   "metadata": {
    "scrolled": true
   },
   "outputs": [],
   "source": [
    "odd_in = odd.loc[odd['is_instructor'] == True]\n",
    "even_in = even.loc[even['is_instructor'] == True]\n",
    "\n",
    "odd_search_more_in = odd_in.loc[odd_in['search_count'] > 0].reset_index(drop=True)\n",
    "odd_search_zero_in = odd_in.loc[odd_in['search_count'] == 0].reset_index(drop=True)\n",
    "even_search_more_in = even_in.loc[even_in['search_count'] > 0].reset_index(drop=True)\n",
    "even_search_zero_in = even_in.loc[even_in['search_count'] == 0].reset_index(drop=True)\n",
    "\n",
    "#print(odd_search_more_in)\n",
    "odd_rows_more_in = odd_search_more_in.shape[0]\n",
    "odd_rows_zero_in = odd_search_zero_in.shape[0]\n",
    "even_rows_more_in = even_search_more_in.shape[0]\n",
    "even_rows_zero_in = even_search_zero_in.shape[0]\n",
    "#print(odd_rows_more_in)\n",
    "\n"
   ]
  },
  {
   "cell_type": "code",
   "execution_count": 10,
   "metadata": {},
   "outputs": [
    {
     "name": "stdout",
     "output_type": "stream",
     "text": [
      "0.052001632770999166\n",
      "0.022479717008052572\n"
     ]
    }
   ],
   "source": [
    "contingency2 =[[even_rows_more_in,even_rows_zero_in],[odd_rows_more_in,odd_rows_zero_in]]\n",
    "chi2, p_value3, dof, expected = stats.chi2_contingency(contingency2)\n",
    "\n",
    "p_value4 = stats.mannwhitneyu(even_in['search_count'],odd_in['search_count']).pvalue\n",
    "# print(chi2)\n",
    "print(p_value3)\n",
    "# print(dof)\n",
    "# print(expected)\n",
    "print(p_value4) "
   ]
  },
  {
   "cell_type": "code",
   "execution_count": 11,
   "metadata": {},
   "outputs": [
    {
     "name": "stdout",
     "output_type": "stream",
     "text": [
      "\"Did more/less users use the search feature?\" p-value: 0.168\n",
      "\"Did users search more/less?\" p-value: 0.0706\n",
      "\"Did more/less instructors use the search feature?\" p-value: 0.052\n",
      "\"Did instructors search more/less?\" p-value: 0.0225\n"
     ]
    }
   ],
   "source": [
    "OUTPUT_TEMPLATE = (\n",
    "    '\"Did more/less users use the search feature?\" p-value: {more_users_p:.3g}\\n'\n",
    "    '\"Did users search more/less?\" p-value: {more_searches_p:.3g}\\n'\n",
    "    '\"Did more/less instructors use the search feature?\" p-value: {more_instr_p:.3g}\\n'\n",
    "    '\"Did instructors search more/less?\" p-value: {more_instr_searches_p:.3g}'\n",
    ")\n",
    "def main():\n",
    "    searchdata_file = sys.argv[1]\n",
    "\n",
    "    # ...\n",
    "\n",
    "    # Output\n",
    "    print(OUTPUT_TEMPLATE.format(\n",
    "        more_users_p=p_value1,\n",
    "        more_searches_p=p_value2,\n",
    "        more_instr_p=p_value3,\n",
    "        more_instr_searches_p=p_value4,\n",
    "    ))\n",
    "\n",
    "\n",
    "if __name__ == '__main__':\n",
    "    main()"
   ]
  },
  {
   "cell_type": "code",
   "execution_count": null,
   "metadata": {},
   "outputs": [],
   "source": []
  },
  {
   "cell_type": "code",
   "execution_count": null,
   "metadata": {},
   "outputs": [],
   "source": []
  }
 ],
 "metadata": {
  "kernelspec": {
   "display_name": "Python 3",
   "language": "python",
   "name": "python3"
  },
  "language_info": {
   "codemirror_mode": {
    "name": "ipython",
    "version": 3
   },
   "file_extension": ".py",
   "mimetype": "text/x-python",
   "name": "python",
   "nbconvert_exporter": "python",
   "pygments_lexer": "ipython3",
   "version": "3.7.4"
  }
 },
 "nbformat": 4,
 "nbformat_minor": 2
}
