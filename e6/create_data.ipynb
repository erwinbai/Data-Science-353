{
 "cells": [
  {
   "cell_type": "code",
   "execution_count": 1,
   "metadata": {},
   "outputs": [],
   "source": [
    "import sys\n",
    "import pandas as pd\n",
    "import numpy as np"
   ]
  },
  {
   "cell_type": "code",
   "execution_count": 2,
   "metadata": {},
   "outputs": [],
   "source": [
    "random = np.random.rand(3000) #array with random integer of size 3000\n",
    "#print(random)\n",
    "# max = random.max()\n",
    "# print(max)"
   ]
  },
  {
   "cell_type": "code",
   "execution_count": 3,
   "metadata": {},
   "outputs": [],
   "source": [
    "import time\n",
    "from implementations import all_implementations\n",
    "#... contains all_implementations = [qs1, qs2, qs3, qs4, qs5, merge1, partition_sort\n",
    "\n",
    "\n",
    "\n",
    "count = np.empty((7,100)) #large n=100 and count through all 7 sort\n",
    "j = 0\n",
    "#print(result)\n",
    "\n",
    "for sort in all_implementations:\n",
    "    for i in range(100):  #large n and sort 100 times   \n",
    "        st = time.time()\n",
    "        res = sort(random)\n",
    "        en = time.time()\n",
    "        count[j][i] = en - st #store first time caculation for first result in to alg[0][0] etc..\n",
    "    j =j+1\n",
    "    \n",
    "#print(count)"
   ]
  },
  {
   "cell_type": "code",
   "execution_count": 4,
   "metadata": {},
   "outputs": [],
   "source": [
    "#I need to transpose the data so every sort alg have the right time\n",
    "#https://docs.scipy.org/doc/numpy/reference/generated/numpy.transpose.html\n",
    "col = np.transpose(count)\n",
    "\n",
    "# Found a interesting one that also transpose array\n",
    "# https://stackoverflow.com/questions/4937491/matrix-transpose-in-python\n",
    "# I am still unsure how *zip works but it did \n",
    "#col = [*zip(*count)]"
   ]
  },
  {
   "cell_type": "code",
   "execution_count": 5,
   "metadata": {},
   "outputs": [],
   "source": [
    "data = pd.DataFrame(\n",
    "                    col,\n",
    "                    columns = ['qs1','qs2', 'qs3', 'qs4', 'qs5', 'merge1', 'partition_sort']\n",
    ")\n",
    "#print(data)\n",
    "data.to_csv('data.csv', index=False)"
   ]
  },
  {
   "cell_type": "code",
   "execution_count": null,
   "metadata": {},
   "outputs": [],
   "source": []
  },
  {
   "cell_type": "code",
   "execution_count": null,
   "metadata": {},
   "outputs": [],
   "source": []
  },
  {
   "cell_type": "code",
   "execution_count": null,
   "metadata": {},
   "outputs": [],
   "source": []
  }
 ],
 "metadata": {
  "kernelspec": {
   "display_name": "Python 3",
   "language": "python",
   "name": "python3"
  },
  "language_info": {
   "codemirror_mode": {
    "name": "ipython",
    "version": 3
   },
   "file_extension": ".py",
   "mimetype": "text/x-python",
   "name": "python",
   "nbconvert_exporter": "python",
   "pygments_lexer": "ipython3",
   "version": "3.7.3"
  }
 },
 "nbformat": 4,
 "nbformat_minor": 2
}
