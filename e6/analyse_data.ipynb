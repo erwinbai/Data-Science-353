{
 "cells": [
  {
   "cell_type": "code",
   "execution_count": 1,
   "metadata": {},
   "outputs": [],
   "source": [
    "import sys\n",
    "import pandas as pd\n",
    "import numpy as np\n",
    "import scipy.stats as stats"
   ]
  },
  {
   "cell_type": "code",
   "execution_count": 2,
   "metadata": {},
   "outputs": [
    {
     "name": "stdout",
     "output_type": "stream",
     "text": [
      "         qs1       qs2       qs3       qs4       qs5    merge1  partition_sort\n",
      "0   0.010963  0.014956  0.014874  0.015404  0.014428  0.014861        0.007761\n",
      "1   0.010681  0.014806  0.014436  0.015220  0.014146  0.014911        0.007744\n",
      "2   0.011227  0.014602  0.015014  0.014689  0.013955  0.015001        0.007772\n",
      "3   0.010723  0.014675  0.015590  0.014506  0.014815  0.014984        0.007690\n",
      "4   0.010566  0.014550  0.015369  0.015434  0.014205  0.014912        0.007686\n",
      "..       ...       ...       ...       ...       ...       ...             ...\n",
      "95  0.010550  0.014926  0.015290  0.014296  0.014873  0.014713        0.007693\n",
      "96  0.010524  0.014400  0.014430  0.014109  0.014506  0.014649        0.007731\n",
      "97  0.010227  0.014361  0.014514  0.014341  0.014851  0.014707        0.007700\n",
      "98  0.010292  0.014809  0.014464  0.013996  0.014386  0.014634        0.007705\n",
      "99  0.010513  0.014471  0.015807  0.015284  0.014820  0.014729        0.007733\n",
      "\n",
      "[100 rows x 7 columns]\n"
     ]
    }
   ],
   "source": [
    "df = pd.read_csv('data.csv')\n",
    "print(df)"
   ]
  },
  {
   "cell_type": "code",
   "execution_count": 3,
   "metadata": {},
   "outputs": [
    {
     "name": "stdout",
     "output_type": "stream",
     "text": [
      "0.0\n"
     ]
    }
   ],
   "source": [
    "#Since we have more than one group we need ANOVA\n",
    "anova = stats.f_oneway(df['qs1'],df['qs2'],df['qs3'],df['qs4'],df['qs5'],df['merge1'],df['partition_sort']).pvalue\n",
    "print(anova)"
   ]
  },
  {
   "cell_type": "code",
   "execution_count": 4,
   "metadata": {},
   "outputs": [],
   "source": [
    "print('Since our P=0.0 < 0.005, there is a difference between the means of the groups')\n",
    "#We know that there are some groups with different means but not sure which one"
   ]
  },
  {
   "cell_type": "code",
   "execution_count": 5,
   "metadata": {
    "scrolled": false
   },
   "outputs": [],
   "source": [
    "#Continue with Post Hoc Analysis\n",
    "from statsmodels.stats.multicomp import pairwise_tukeyhsd\n",
    "x_melt = pd.melt(df)\n",
    "#print(x_melt)"
   ]
  },
  {
   "cell_type": "code",
   "execution_count": 6,
   "metadata": {
    "scrolled": false
   },
   "outputs": [
    {
     "name": "stdout",
     "output_type": "stream",
     "text": [
      "        Multiple Comparison of Means - Tukey HSD, FWER=0.05         \n",
      "====================================================================\n",
      "    group1         group2     meandiff p-adj   lower   upper  reject\n",
      "--------------------------------------------------------------------\n",
      "        merge1 partition_sort  -0.0068  0.001 -0.0071 -0.0066   True\n",
      "        merge1            qs1  -0.0041  0.001 -0.0043 -0.0038   True\n",
      "        merge1            qs2   0.0002 0.0829    -0.0  0.0005  False\n",
      "        merge1            qs3     -0.0    0.9 -0.0003  0.0002  False\n",
      "        merge1            qs4  -0.0002 0.4081 -0.0004  0.0001  False\n",
      "        merge1            qs5  -0.0005  0.001 -0.0007 -0.0002   True\n",
      "partition_sort            qs1   0.0028  0.001  0.0025   0.003   True\n",
      "partition_sort            qs2   0.0071  0.001  0.0068  0.0073   True\n",
      "partition_sort            qs3   0.0068  0.001  0.0066  0.0071   True\n",
      "partition_sort            qs4   0.0067  0.001  0.0064  0.0069   True\n",
      "partition_sort            qs5   0.0064  0.001  0.0061  0.0066   True\n",
      "           qs1            qs2   0.0043  0.001  0.0041  0.0045   True\n",
      "           qs1            qs3    0.004  0.001  0.0038  0.0043   True\n",
      "           qs1            qs4   0.0039  0.001  0.0037  0.0042   True\n",
      "           qs1            qs5   0.0036  0.001  0.0033  0.0038   True\n",
      "           qs2            qs3  -0.0003 0.0303 -0.0005    -0.0   True\n",
      "           qs2            qs4  -0.0004  0.001 -0.0006 -0.0001   True\n",
      "           qs2            qs5  -0.0007  0.001  -0.001 -0.0005   True\n",
      "           qs3            qs4  -0.0001 0.6225 -0.0004  0.0001  False\n",
      "           qs3            qs5  -0.0005  0.001 -0.0007 -0.0002   True\n",
      "           qs4            qs5  -0.0003 0.0015 -0.0006 -0.0001   True\n",
      "--------------------------------------------------------------------\n"
     ]
    }
   ],
   "source": [
    "posthoc = pairwise_tukeyhsd(\n",
    "    x_melt['value'], x_melt['variable'],\n",
    "    alpha=0.05)\n",
    "print(posthoc)"
   ]
  },
  {
   "cell_type": "code",
   "execution_count": 7,
   "metadata": {},
   "outputs": [],
   "source": [
    "fig = posthoc.plot_simultaneous()"
   ]
  },
  {
   "cell_type": "code",
   "execution_count": 8,
   "metadata": {},
   "outputs": [
    {
     "name": "stdout",
     "output_type": "stream",
     "text": [
      "7 sorting algorithm ANOVA test P-value: 0.0\n",
      "7 sorting algorithm posthoc         Multiple Comparison of Means - Tukey HSD, FWER=0.05         \n",
      "====================================================================\n",
      "    group1         group2     meandiff p-adj   lower   upper  reject\n",
      "--------------------------------------------------------------------\n",
      "        merge1 partition_sort  -0.0068  0.001 -0.0071 -0.0066   True\n",
      "        merge1            qs1  -0.0041  0.001 -0.0043 -0.0038   True\n",
      "        merge1            qs2   0.0002 0.0829    -0.0  0.0005  False\n",
      "        merge1            qs3     -0.0    0.9 -0.0003  0.0002  False\n",
      "        merge1            qs4  -0.0002 0.4081 -0.0004  0.0001  False\n",
      "        merge1            qs5  -0.0005  0.001 -0.0007 -0.0002   True\n",
      "partition_sort            qs1   0.0028  0.001  0.0025   0.003   True\n",
      "partition_sort            qs2   0.0071  0.001  0.0068  0.0073   True\n",
      "partition_sort            qs3   0.0068  0.001  0.0066  0.0071   True\n",
      "partition_sort            qs4   0.0067  0.001  0.0064  0.0069   True\n",
      "partition_sort            qs5   0.0064  0.001  0.0061  0.0066   True\n",
      "           qs1            qs2   0.0043  0.001  0.0041  0.0045   True\n",
      "           qs1            qs3    0.004  0.001  0.0038  0.0043   True\n",
      "           qs1            qs4   0.0039  0.001  0.0037  0.0042   True\n",
      "           qs1            qs5   0.0036  0.001  0.0033  0.0038   True\n",
      "           qs2            qs3  -0.0003 0.0303 -0.0005    -0.0   True\n",
      "           qs2            qs4  -0.0004  0.001 -0.0006 -0.0001   True\n",
      "           qs2            qs5  -0.0007  0.001  -0.001 -0.0005   True\n",
      "           qs3            qs4  -0.0001 0.6225 -0.0004  0.0001  False\n",
      "           qs3            qs5  -0.0005  0.001 -0.0007 -0.0002   True\n",
      "           qs4            qs5  -0.0003 0.0015 -0.0006 -0.0001   True\n",
      "--------------------------------------------------------------------\n"
     ]
    }
   ],
   "source": [
    "print('7 sorting algorithm ANOVA test P-value:',anova)\n",
    "print('7 sorting algorithm posthoc', posthoc)"
   ]
  },
  {
   "cell_type": "code",
   "execution_count": 16,
   "metadata": {},
   "outputs": [
    {
     "name": "stdout",
     "output_type": "stream",
     "text": [
      "Mean of 7 sorting algorithm:\n",
      " qs1               0.010733\n",
      "qs2               0.015036\n",
      "qs3               0.014781\n",
      "qs4               0.014646\n",
      "qs5               0.014321\n",
      "merge1            0.014810\n",
      "partition_sort    0.007962\n",
      "dtype: float64\n",
      "Sorted mean of 7 sorting algorithm:\n",
      " partition_sort    0.007962\n",
      "qs1               0.010733\n",
      "qs5               0.014321\n",
      "qs4               0.014646\n",
      "qs3               0.014781\n",
      "merge1            0.014810\n",
      "qs2               0.015036\n",
      "dtype: float64\n"
     ]
    }
   ],
   "source": [
    "mean = df.mean(axis=0)\n",
    "print('Mean of 7 sorting algorithm:\\n',mean)\n",
    "\n",
    "sort_mean = mean.sort_values()\n",
    "print('Sorted mean of 7 sorting algorithm:\\n',sort_mean)"
   ]
  },
  {
   "cell_type": "code",
   "execution_count": null,
   "metadata": {},
   "outputs": [],
   "source": []
  }
 ],
 "metadata": {
  "kernelspec": {
   "display_name": "Python 3",
   "language": "python",
   "name": "python3"
  },
  "language_info": {
   "codemirror_mode": {
    "name": "ipython",
    "version": 3
   },
   "file_extension": ".py",
   "mimetype": "text/x-python",
   "name": "python",
   "nbconvert_exporter": "python",
   "pygments_lexer": "ipython3",
   "version": "3.7.3"
  }
 },
 "nbformat": 4,
 "nbformat_minor": 2
}
