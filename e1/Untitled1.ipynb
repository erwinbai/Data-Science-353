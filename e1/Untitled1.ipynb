{
 "cells": [
  {
   "cell_type": "code",
   "execution_count": 3,
   "metadata": {},
   "outputs": [],
   "source": [
    "import numpy as np\n",
    "import pandas as pd\n",
    "import matplotlib.pyplot as plt"
   ]
  },
  {
   "cell_type": "code",
   "execution_count": 4,
   "metadata": {
    "scrolled": true
   },
   "outputs": [
    {
     "name": "stdout",
     "output_type": "stream",
     "text": [
      "                pie\n",
      "name   number      \n",
      "Erwin  1       6.30\n",
      "Hansen 1       3.15\n"
     ]
    }
   ],
   "source": [
    "df = pd.DataFrame(\n",
    "    {\n",
    "        'name': ['Erwin','Erwin','Hansen'],\n",
    "        'number': [1,1,1]\n",
    "    }\n",
    ")\n",
    "\n",
    "dataframe =  pd.Series(\n",
    "    [3.14,3.15,3.16],\n",
    "    index=[0,2,1]\n",
    ")\n",
    "df['pie'] = dataframe\n",
    "df = df.groupby(['name','number']).agg('sum')\n",
    "print(df)"
   ]
  },
  {
   "cell_type": "code",
   "execution_count": 6,
   "metadata": {},
   "outputs": [
    {
     "data": {
      "text/plain": [
       "array([6.3 , 3.15])"
      ]
     },
     "execution_count": 6,
     "metadata": {},
     "output_type": "execute_result"
    }
   ],
   "source": [
    "df['pie'].values"
   ]
  },
  {
   "cell_type": "code",
   "execution_count": 7,
   "metadata": {},
   "outputs": [
    {
     "data": {
      "text/plain": [
       "pie    6.3\n",
       "Name: (Erwin, 1), dtype: float64"
      ]
     },
     "execution_count": 7,
     "metadata": {},
     "output_type": "execute_result"
    }
   ],
   "source": [
    "df.iloc[0]"
   ]
  },
  {
   "cell_type": "code",
   "execution_count": 3,
   "metadata": {},
   "outputs": [
    {
     "name": "stdout",
     "output_type": "stream",
     "text": [
      "       value\n",
      "hi          \n",
      "name       1\n",
      "group      2\n",
      "list       3\n"
     ]
    }
   ],
   "source": [
    "city = pd.DataFrame(\n",
    "#     [[1,2,3],[4,5,6],[7,8,9]],\n",
    "[[1],[2],[3]],\n",
    "    columns = ['value'],\n",
    "#     columns = ['set','set1','set3'],\n",
    "    index=pd.Index(['name','group','list'], name='hi')\n",
    ")\n",
    "print(city)"
   ]
  },
  {
   "cell_type": "code",
   "execution_count": 4,
   "metadata": {},
   "outputs": [
    {
     "name": "stdout",
     "output_type": "stream",
     "text": [
      "     population    area\n",
      "city                   \n",
      "0         erwin  hansen\n",
      "1         erwin  hansen\n",
      "2         erwin  hansen\n"
     ]
    }
   ],
   "source": [
    "cities = pd.DataFrame(\n",
    "  [['erwin', 'hansen']],\n",
    "  columns=['population', 'area'],\n",
    "  index=pd.Index([0,1,2], name='city')\n",
    ")\n",
    "print(cities)"
   ]
  },
  {
   "cell_type": "code",
   "execution_count": 5,
   "metadata": {},
   "outputs": [
    {
     "name": "stdout",
     "output_type": "stream",
     "text": [
      "                                2016-01  2016-02  2016-03  2016-04  2016-05  \\\n",
      "name                                                                          \n",
      "BURNABY SIMON FRASER U             1809     1482     2159      374      606   \n",
      "CALGARY INTL A                      121       22       46       40      683   \n",
      "GANDER INTL A                       896     1232      992     1106     1236   \n",
      "HALIFAX INTL A                     1491     1473     1452     1595     1001   \n",
      "REVELSTOKE                          930      561      533      204      546   \n",
      "SHERBROOKE                          183      982      621      471      667   \n",
      "TORONTO LESTER B. PEARSON INT'      363      491      729      681      346   \n",
      "VANCOUVER INTL A                   1682     1304     1616      242      516   \n",
      "YELLOWKNIFE A                       220       90       28      120       98   \n",
      "\n",
      "                                2016-06  2016-07  2016-08  2016-09  2016-10  \\\n",
      "name                                                                          \n",
      "BURNABY SIMON FRASER U              428      442       68      956     1429   \n",
      "CALGARY INTL A                      616     2061      834      253      276   \n",
      "GANDER INTL A                      1015     1264     1096     1026     2422   \n",
      "HALIFAX INTL A                      725      734      445      845     2185   \n",
      "REVELSTOKE                          748      662      274      785     1620   \n",
      "SHERBROOKE                          671      525     1599      433     1176   \n",
      "TORONTO LESTER B. PEARSON INT'      269      399      667      663      452   \n",
      "VANCOUVER INTL A                    582      328      138      784     2034   \n",
      "YELLOWKNIFE A                       306      154      280      488      158   \n",
      "\n",
      "                                2016-11  2016-12  \n",
      "name                                              \n",
      "BURNABY SIMON FRASER U             1349     1846  \n",
      "CALGARY INTL A                       27      224  \n",
      "GANDER INTL A                      1184     1099  \n",
      "HALIFAX INTL A                     1305     1835  \n",
      "REVELSTOKE                         1293      295  \n",
      "SHERBROOKE                          594      627  \n",
      "TORONTO LESTER B. PEARSON INT'      497      821  \n",
      "VANCOUVER INTL A                   2402     1520  \n",
      "YELLOWKNIFE A                       176      116  \n"
     ]
    }
   ],
   "source": [
    "#totals = pd.read_csv('totals.csv',index_col='name')\n",
    "totals = pd.read_csv('totals.csv').set_index('name')\n",
    "print(totals)"
   ]
  },
  {
   "cell_type": "code",
   "execution_count": 6,
   "metadata": {},
   "outputs": [
    {
     "name": "stdout",
     "output_type": "stream",
     "text": [
      "           population     area        store\n",
      "city                                       \n",
      "Vancouver     2463431  2878.52   855.797771\n",
      "Calergray     1392609  5110.21   272.515024\n",
      "Toronto       5928040  5905.71  1003.781086\n"
     ]
    }
   ],
   "source": [
    "df = pd.DataFrame(\n",
    "    [[2463431,2878.52],[1392609,5110.21],[5928040,5905.71]],\n",
    "    columns = ['population','area'],\n",
    "    index = pd.Index(['Vancouver','Calergray','Toronto'],name = 'city')\n",
    ")\n",
    "df['store'] = df['population']/df['area']\n",
    "print (df)"
   ]
  },
  {
   "cell_type": "code",
   "execution_count": 7,
   "metadata": {},
   "outputs": [
    {
     "name": "stdout",
     "output_type": "stream",
     "text": [
      "9784080\n",
      "        city  population     area        store\n",
      "0  Vancouver     2463431  2878.52   855.797771\n",
      "1  Calergray     1392609  5110.21   272.515024\n",
      "2    Toronto     5928040  5905.71  1003.781086\n"
     ]
    }
   ],
   "source": [
    "def my_func(x):\n",
    "    return x+1\n",
    "#my_fun = np.vectorize(my_func)\n",
    "\n",
    "df1 = df['population'].aggregate('sum')\n",
    "df = df.reset_index()\n",
    "#df1 = df.groupby(['city']).mean()\n",
    "#print(df)\n",
    "print(df1)\n",
    "print(df)"
   ]
  },
  {
   "cell_type": "code",
   "execution_count": 8,
   "metadata": {},
   "outputs": [
    {
     "name": "stdout",
     "output_type": "stream",
     "text": [
      "   date  month  year\n",
      "0     1      2     3\n",
      "1     4      5     6\n"
     ]
    }
   ],
   "source": [
    "df = pd.DataFrame(\n",
    "    [[1,2,3],[4,5,6]],\n",
    "    columns=['date','month','year'],\n",
    "    index=pd.Index([0,1],'number')\n",
    ")\n",
    "print(df)"
   ]
  },
  {
   "cell_type": "code",
   "execution_count": 9,
   "metadata": {},
   "outputs": [
    {
     "name": "stdout",
     "output_type": "stream",
     "text": [
      "[{\"date\":1,\"month\":2,\"year\":3},{\"date\":4,\"month\":5,\"year\":6}]\n",
      "{\"date\":1,\"month\":2,\"year\":3}\n",
      "{\"date\":4,\"month\":5,\"year\":6}\n"
     ]
    }
   ],
   "source": [
    "xml=df.to_json(orient='records',lines=False)\n",
    "print(xml)\n",
    "xml1=df.to_json(orient='records',lines=True)\n",
    "print(xml1)"
   ]
  },
  {
   "cell_type": "code",
   "execution_count": 10,
   "metadata": {},
   "outputs": [
    {
     "data": {
      "text/html": [
       "<div>\n",
       "<style scoped>\n",
       "    .dataframe tbody tr th:only-of-type {\n",
       "        vertical-align: middle;\n",
       "    }\n",
       "\n",
       "    .dataframe tbody tr th {\n",
       "        vertical-align: top;\n",
       "    }\n",
       "\n",
       "    .dataframe thead th {\n",
       "        text-align: right;\n",
       "    }\n",
       "</style>\n",
       "<table border=\"1\" class=\"dataframe\">\n",
       "  <thead>\n",
       "    <tr style=\"text-align: right;\">\n",
       "      <th></th>\n",
       "      <th>a</th>\n",
       "      <th>b</th>\n",
       "      <th>c</th>\n",
       "    </tr>\n",
       "  </thead>\n",
       "  <tbody>\n",
       "    <tr>\n",
       "      <th>0</th>\n",
       "      <td>1</td>\n",
       "      <td>2</td>\n",
       "      <td>3</td>\n",
       "    </tr>\n",
       "    <tr>\n",
       "      <th>1</th>\n",
       "      <td>10</td>\n",
       "      <td>20</td>\n",
       "      <td>30</td>\n",
       "    </tr>\n",
       "  </tbody>\n",
       "</table>\n",
       "</div>"
      ],
      "text/plain": [
       "    a   b   c\n",
       "0   1   2   3\n",
       "1  10  20  30"
      ]
     },
     "execution_count": 10,
     "metadata": {},
     "output_type": "execute_result"
    }
   ],
   "source": [
    "mydict =[{'a':1,'b':2,'c':3},\n",
    "         {'a':10,'b':20,'c':30}]\n",
    "data = pd.DataFrame(mydict)\n",
    "\n",
    "data"
   ]
  },
  {
   "cell_type": "code",
   "execution_count": 11,
   "metadata": {},
   "outputs": [
    {
     "name": "stdout",
     "output_type": "stream",
     "text": [
      "11\n"
     ]
    }
   ],
   "source": [
    "print(data['a'].agg(sum))"
   ]
  },
  {
   "cell_type": "code",
   "execution_count": 12,
   "metadata": {
    "scrolled": true
   },
   "outputs": [
    {
     "name": "stdout",
     "output_type": "stream",
     "text": [
      "0     1\n",
      "1    10\n",
      "Name: a, dtype: int64\n"
     ]
    }
   ],
   "source": [
    "print (data['a'])"
   ]
  },
  {
   "cell_type": "code",
   "execution_count": 13,
   "metadata": {},
   "outputs": [
    {
     "name": "stdout",
     "output_type": "stream",
     "text": [
      "    a\n",
      "0   1\n",
      "1  10\n"
     ]
    }
   ],
   "source": [
    "print(data[['a']])"
   ]
  },
  {
   "cell_type": "code",
   "execution_count": 14,
   "metadata": {
    "scrolled": false
   },
   "outputs": [
    {
     "name": "stdout",
     "output_type": "stream",
     "text": [
      "a    11\n",
      "dtype: int64\n"
     ]
    }
   ],
   "source": [
    "print(data[['a']].agg(sum))"
   ]
  },
  {
   "cell_type": "code",
   "execution_count": null,
   "metadata": {},
   "outputs": [],
   "source": []
  },
  {
   "cell_type": "code",
   "execution_count": 15,
   "metadata": {},
   "outputs": [
    {
     "data": {
      "text/html": [
       "<div>\n",
       "<style scoped>\n",
       "    .dataframe tbody tr th:only-of-type {\n",
       "        vertical-align: middle;\n",
       "    }\n",
       "\n",
       "    .dataframe tbody tr th {\n",
       "        vertical-align: top;\n",
       "    }\n",
       "\n",
       "    .dataframe thead th {\n",
       "        text-align: right;\n",
       "    }\n",
       "</style>\n",
       "<table border=\"1\" class=\"dataframe\">\n",
       "  <thead>\n",
       "    <tr style=\"text-align: right;\">\n",
       "      <th></th>\n",
       "      <th>city</th>\n",
       "      <th>name</th>\n",
       "    </tr>\n",
       "  </thead>\n",
       "  <tbody>\n",
       "    <tr>\n",
       "      <th>0</th>\n",
       "      <td>Vancouver</td>\n",
       "      <td>Erwin</td>\n",
       "    </tr>\n",
       "    <tr>\n",
       "      <th>1</th>\n",
       "      <td>1</td>\n",
       "      <td>Erwin</td>\n",
       "    </tr>\n",
       "    <tr>\n",
       "      <th>2</th>\n",
       "      <td>2</td>\n",
       "      <td>John</td>\n",
       "    </tr>\n",
       "  </tbody>\n",
       "</table>\n",
       "</div>"
      ],
      "text/plain": [
       "        city   name\n",
       "0  Vancouver  Erwin\n",
       "1          1  Erwin\n",
       "2          2   John"
      ]
     },
     "execution_count": 15,
     "metadata": {},
     "output_type": "execute_result"
    }
   ],
   "source": [
    "df = pd.DataFrame(\n",
    "    ['Erwin','Erwin','John'],\n",
    "    columns = ['name'],\n",
    "    index=pd.Index(['Vancouver',1,2], name = 'city')\n",
    ")\n",
    "\n",
    "#df = pd.read_csv('counts.csv', index_col = ['name'] )\n",
    "df = df.reset_index()\n",
    "\n",
    "# df = df.set_index('name')\n",
    "df"
   ]
  },
  {
   "cell_type": "code",
   "execution_count": 16,
   "metadata": {},
   "outputs": [
    {
     "data": {
      "image/png": "[encoded data removed]",
      "text/plain": [
       "<Figure size 432x288 with 1 Axes>"
      ]
     },
     "metadata": {
      "needs_background": "light"
     },
     "output_type": "display_data"
    }
   ],
   "source": [
    "\n",
    "STAT 302c: Assignment 1 (20 points)\n",
    "\n",
    "\n",
    "(1 points)\n",
    "\n",
    "1.2: What is the slope of the regression line for predicting sparrow weight from wing length?\n",
    "Slope = 0.467\n",
    "\n",
    "(1 points)\n",
    "\n",
    "1.3: What is the intercept of the regression line for predicting sparrow weight from wing length?\n",
    "Intercept = 1.3655\n",
    "\n",
    "(1 points)\n",
    "\n",
    "1.4: What is the size of the typical error when predicting sparrow weight from wing length?\n",
    "Error = 1.39959 (Average distance of the data points from the fitted line is about 1.4\\% of sparrow weight)\n",
    "\n",
    "(1 points)\n",
    "1.6: Consider the fitted regression equation Y^=25+7X. If x1=10 and y1=100, what is the residual for the first data point?\n",
    "Y^=25+7(10)\n",
    "Y^=95\n",
    "Residual=y1−Y^=100−95=5\n",
    "\n",
    "\n",
    "\n",
    "Q 1.18 - (5 Points)\n",
    "\n",
    "# Reading 'Pines' data set and examining it\n",
    "pines_dt = read.csv(file='Pines.csv', header=TRUE)\n",
    "head(pines_dt)\n",
    "\n",
    "Row\tCol\tHgt90\tHgt96\tDiam96\tGrow96\tHgt97\tDiam97\tSpread.97\tNeedles97\tDeer95\tDeer97\tCover95\tFert\tSpacing\n",
    "1 \t1 \tNA \tNA\tNA\tNA\tNA\tNA\tNA\tNA \tNA \tNA \t0 \t0 \t15\n",
    "1 \t2 \t14 \t284\t4.2\t96\t362\t6.6\t162\t66 \t0 \t1 \t2 \t0 \t15\n",
    "1 \t3 \t17 \t387\t7.4\t110\t442\t9.3\t250\t77 \t0 \t0 \t1 \t0 \t15\n",
    "1 \t4 \tNA \tNA\tNA\tNA\tNA\tNA\tNA\tNA \tNA \tNA \t0 \t0 \t15\n",
    "1 \t5 \t24 \t294\t3.9\t70\t369\t7.0\t176\t72 \t0 \t0 \t2 \t0 \t15\n",
    "1 \t6 \t22 \t310\t5.6\t84\t365\t6.9\t215\t76 \t0 \t0 \t1 \t0 \t15\n",
    "\n",
    "# Creating a three column data frame with variables of interest\n",
    "pines_height_dt = as.data.frame(cbind(Hgt90=pines_dt$Hgt90, Hgt96=pines_dt$Hgt96))\n",
    "head(pines_height_dt)\n",
    "dim(pines_height_dt)\n",
    "\n",
    "Hgt90\tHgt96\n",
    "NA \tNA\n",
    "14 \t284\n",
    "17 \t387\n",
    "NA \tNA\n",
    "24 \t294\n",
    "22 \t310\n",
    "\n",
    "    1000 2 \n",
    "\n",
    "# Removing NA from two column data frame\n",
    "pines_height_dt = na.omit(pines_height_dt)\n",
    "head(pines_height_dt)\n",
    "dim(pines_height_dt)\n",
    "\n",
    "\tHgt90\tHgt96\n",
    "2\t14 \t284\n",
    "3\t17 \t387\n",
    "5\t24 \t294\n",
    "6\t22 \t310\n",
    "7\t18 \t318\n",
    "8\t32 \t328\n",
    "\n",
    "    807 2 \n",
    "\n",
    "# (2 Points) Part A: Construct a Scatter Plot to eaxmine the relationship between the initial height in 1990 and the height in 1996\n",
    "plot(pines_height_dt$Hgt90, pines_height_dt$Hgt96, xlab='Height at the time of planting: 1990', ylab='Height in September 1996', \n",
    "     main='Scatterplot of Heigths in 1990 vs Heigths in 1996', pch=16, col='blue')\n",
    "\n",
    "Note: 1 point for creating the scatter plot\n",
    "\n",
    "COMMENT (1 point): The scatterplot indicates a weak positive linear relationship.\n",
    "\n",
    "You need to comment on three things.\n",
    "\n",
    "    weak or strong\n",
    "    positive or negative\n",
    "    linear or not If you miss atleast on I deduction 0.5 marks.\n",
    "\n",
    "# (1 point) Part B: Fit a least squares line for predicting the height in 1996 from the initial height in 1990\n",
    "height_fit = lm(Hgt96~Hgt90, data=pines_height_dt)\n",
    "summary(height_fit)\n",
    "\n",
    "Call:\n",
    "lm(formula = Hgt96 ~ Hgt90, data = pines_height_dt)\n",
    "\n",
    "Residuals:\n",
    "     Min       1Q   Median       3Q      Max \n",
    "-275.293  -42.798    7.208   46.332  181.457 \n",
    "\n",
    "Coefficients:\n",
    "            Estimate Std. Error t value Pr(>|t|)    \n",
    "(Intercept) 241.2846     8.6209   27.99  < 2e-16 ***\n",
    "Hgt90         2.2504     0.4311    5.22 2.28e-07 ***\n",
    "---\n",
    "Signif. codes:  0 ‘***’ 0.001 ‘**’ 0.01 ‘*’ 0.05 ‘.’ 0.1 ‘ ’ 1\n",
    "\n",
    "Residual standard error: 69.02 on 805 degrees of freedom\n",
    "Multiple R-squared:  0.03274,\tAdjusted R-squared:  0.03154 \n",
    "F-statistic: 27.25 on 1 and 805 DF,  p-value: 2.276e-07\n",
    "\n",
    "Fitted model: hgt96 = 241.2846 + 2.204 * Hgt90\n",
    "\n",
    "(2 Points) Part C: Are you satisfied with the fit of this simple linear model? (To get full marks you need to talk about model assumptions, if you only talked about R_squared just 1 point was given)\n",
    "\n",
    "No.\n",
    "\n",
    "Reasons:\n",
    "\n",
    "Refer residual plots below.\n",
    "\n",
    "Fitted value vs. Residual plot indicate non constant variance. Residual have a funnel shape wither side of the horizontal line (horizontal lline of zero residuals)\n",
    "\n",
    "Both normal probability plot and histogram of residuals indicate deviation from normality. Histogram is skewed.\n",
    "\n",
    "Scater plot of observation indicate weak positive linear relationship. Thus, there are issues with normality.\n",
    "\n",
    "On the other hand, the coefficient of the intercept and coefficient of Hgt90 are significant (with small p-value), the coefficient of determination is very small (Rsq = 0.032). This means that only 3% of variation in dependent variable is explained by the variation of predictor variable. Therefore we cannot satisfy with the fit of this simple linear regression model.\n",
    "\n",
    "res = height_fit$residuals\n",
    "fitted_val = height_fit$fitted.values\n",
    "\n",
    "# Plot of residuals vs. fitted values\n",
    "plot(fitted_val, res, main='Residual vs Fitted values for Constant Variance', xlab='Fitted Values', ylab='Residuals', pch=16)\n",
    "abline(h=0, col='red', lwd=2)\n",
    "\n",
    "hist(res, main='Histogram of Residuals to check Normality of Residuals', ylab='Frequency', xlab='Residuals')\n",
    "\n",
    "qqnorm(res, main='Normal Probability Plot of Residuals')\n",
    "qqline(res, col='red', lwd=2)\n",
    "\n",
    "Q 1.20 - (5 Points)\n",
    "\n",
    "(1 Point) Part A: Before doing any calculations, do you think that the height in 1996 will be a better predictor that the initial seedling height in 1990?\n",
    "\n",
    "Yes. Reason: If we compares the growth between 1990 to 1996 lot of factors could afftect differently for growth of trees. Thus, the variation in growth is likely to be very high. However, if consider growth between 1996 to 1997 the variation is much less. Thus 1996 is a better predictor.\n",
    "\n",
    "pines_height_dt = as.data.frame(cbind(Hgt96=pines_dt$Hgt96, Hgt97=pines_dt$Hgt97))\n",
    "pines_height_dt = na.omit(pines_height_dt)\n",
    "\n",
    "# Construct a Scatter Plot to eaxmine the relationship between the initial height in 1990 and the height in 1996\n",
    "plot(pines_height_dt$Hgt96, pines_height_dt$Hgt97, xlab='Height in September 1996', ylab='Height in September 1997', \n",
    "     main='Scatterplot of Heigths in 1996 vs Heigths in 1997', pch=16, col='blue')\n",
    "\n",
    "fitted model: Hgt97 = 40.590784 + 1.096059 * Hgt96\n",
    "\n",
    "-1 point for r output -1 point for writing out the model\n",
    "\n",
    "(2 Points) Part C: Does the simple linear regressin model provide a good fit?\n",
    "\n",
    "Yes.\n",
    "\n",
    "Reason:\n",
    "\n",
    "Residual vs Fitted value plot indicate constant variance as residuals are placed within a constant band either side of the horizontalt line without anr abnormal patter.\n",
    "\n",
    "Both normal probability plot and histogram indicate slight deviation from normality but much better than the previous one.\n",
    "\n",
    "Scattplot above indicates a strong positive linear relationship.\n",
    "\n",
    "Furthermore, the coefficient of the intercept and coefficient of Hgt96 are significant (with small p-values). In addtion to that the coefficient of determination is close to 1 (Rsq = 0.987). This means that approximately 95% of variation in dependent variable is explained by the variation of predictor variable. Therefore we can satisfy with the fit of this simple linear regression model.\n",
    "\n",
    "res = height_fit$residuals\n",
    "fitted_val = height_fit$fitted.values\n",
    "\n",
    "# Plot of residuals vs. fitted values\n",
    "plot(fitted_val, res, main='Residual vs Fitted values for Constant Variance', xlab='Fitted Values', ylab='Residuals', pch=16)\n",
    "abline(h=0, col='red', lwd=2)\n",
    "\n",
    "hist(res, main='Histogram of Residuals to check Normality of Residuals', ylab='Frequency', xlab='Residuals')\n",
    "\n",
    "qqnorm(res, main='Normal Probability Plot of Residuals')\n",
    "qqline(res, col='red', lwd=2)\n",
    "\n",
    "Q 2.6 - (1 Points)\n",
    "\n",
    "Answer\n",
    "\n",
    ": True\n",
    "Q 2.14 - (5 Points)\n",
    "\n",
    "# Process of manually entering data - 1 point\n",
    "pages = c(600, 91, 200, 400, 521, 315, 800, 800, 600, 488, 150, 140, 194, 425, 51, 930, 57, 900, 746, 104, 696, 294, 526, 1060,\n",
    "         502, 590, 336, 816, 356, 248)\n",
    "price = c(95.00, 19.95, 51.50, 128.50, 96.00, 48.50, 146.75, 92.00, 19.50, 85.50, 16.95, 9.95, 5.95, 58.75, 6.50, 70.75, 4.25,\n",
    "         115.25, 158.00, 6.50, 130.50, 7.00, 41.25, 169.75, 71.25, 82.25, 12.95, 127.00, 41.50, 31.00)\n",
    "\n",
    "textPrice_dt = as.data.frame(cbind(pages, price))\n",
    "head(textPrice_dt)\n",
    "\n",
    "pages\tprice\n",
    "600 \t95.00\n",
    "91 \t19.95\n",
    "200 \t51.50\n",
    "400 \t128.50\n",
    "521 \t96.00\n",
    "315 \t48.50\n",
    "\n",
    "# Simple linear regression model to predict price with number of pages in a book\n",
    "textPrice_fit = lm(price~pages, data=textPrice_dt)\n",
    "summary(textPrice_fit)\n",
    "\n",
    "Call:\n",
    "lm(formula = price ~ pages, data = textPrice_dt)\n",
    "\n",
    "Residuals:\n",
    "    Min      1Q  Median      3Q     Max \n",
    "-65.475 -12.324  -0.584  15.304  72.991 \n",
    "\n",
    "Coefficients:\n",
    "            Estimate Std. Error t value Pr(>|t|)    \n",
    "(Intercept) -3.42231   10.46374  -0.327    0.746    \n",
    "pages        0.14733    0.01925   7.653 2.45e-08 ***\n",
    "---\n",
    "Signif. codes:  0 ‘***’ 0.001 ‘**’ 0.01 ‘*’ 0.05 ‘.’ 0.1 ‘ ’ 1\n",
    "\n",
    "Residual standard error: 29.76 on 28 degrees of freedom\n",
    "Multiple R-squared:  0.6766,\tAdjusted R-squared:  0.665 \n",
    "F-statistic: 58.57 on 1 and 28 DF,  p-value: 2.452e-08\n",
    "\n",
    "(3 Points) Part A: Perform of significance test to address the student's question of whether the number of pages is a useful predictor of a textbook's price.\n",
    "\n",
    "Hypothesis (1 Point) Ho: β1=0\n",
    "vs. H1: β1≠0\n",
    "\n",
    "(1 Point for T value and P value) Test statistic = 7.653\n",
    "\n",
    "P-value < 0.001\n",
    "\n",
    "data = np.random.normal(0, 1, 1000)\n",
    "plt.boxplot(data,vert=False)\n",
    "plt.show()"
   ]
  },
  {
   "cell_type": "code",
   "execution_count": 17,
   "metadata": {},
   "outputs": [
    {
     "name": "stdout",
     "output_type": "stream",
     "text": [
      "(6,)\n"
     ]
    }
   ],
   "source": [
    "a = np.array([10,20,30,40,50,60])\n",
    "print(a.shape)"
   ]
  },
  {
   "cell_type": "code",
   "execution_count": 18,
   "metadata": {},
   "outputs": [
    {
     "name": "stdout",
     "output_type": "stream",
     "text": [
      "[[10 20 30]\n",
      " [40 50 60]]\n"
     ]
    }
   ],
   "source": [
    "b = a.reshape(2,3)\n",
    "print(b)"
   ]
  },
  {
   "cell_type": "code",
   "execution_count": null,
   "metadata": {},
   "outputs": [],
   "source": []
  },
  {
   "cell_type": "code",
   "execution_count": null,
   "metadata": {},
   "outputs": [],
   "source": [
    "print(b)"
   ]
  },
  {
   "cell_type": "code",
   "execution_count": 9,
   "metadata": {},
   "outputs": [
    {
     "name": "stdout",
     "output_type": "stream",
     "text": [
      "    name  value1\n",
      "0  Erwin      20\n"
     ]
    }
   ],
   "source": [
    "data = pd.DataFrame(\n",
    "    [['Erwin','Hansen'],[1,10]],\n",
    "    columns = ['name','value'],\n",
    "    index = pd.Index([0,1], name = 'index')\n",
    ")\n",
    "\n",
    "data = pd.DataFrame(\n",
    "{\n",
    "    'name' : ['Erwin'],\n",
    "})\n",
    "\n",
    "data1 = pd.Series(\n",
    "    [2,20],\n",
    "    index=[1,0]\n",
    ")\n",
    "\n",
    "\n",
    "data['value1'] = data1\n",
    "print(data)\n"
   ]
  },
  {
   "cell_type": "code",
   "execution_count": null,
   "metadata": {},
   "outputs": [],
   "source": [
    "data = data.sort_values(by = 'value1')\n",
    "data = data.reset_index(drop = True)\n",
    "print(data)\n"
   ]
  },
  {
   "cell_type": "code",
   "execution_count": null,
   "metadata": {},
   "outputs": [],
   "source": []
  }
 ],
 "metadata": {
  "kernelspec": {
   "display_name": "Python 3",
   "language": "python",
   "name": "python3"
  },
  "language_info": {
   "codemirror_mode": {
    "name": "ipython",
    "version": 3
   },
   "file_extension": ".py",
   "mimetype": "text/x-python",
   "name": "python",
   "nbconvert_exporter": "python",
   "pygments_lexer": "ipython3",
   "version": "3.7.3"
  }
 },
 "nbformat": 4,
 "nbformat_minor": 2
}
