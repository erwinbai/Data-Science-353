{
 "cells": [
  {
   "cell_type": "code",
   "execution_count": 1,
   "metadata": {},
   "outputs": [],
   "source": [
    "import pandas as pd\n",
    "import numpy as np"
   ]
  },
  {
   "cell_type": "code",
   "execution_count": 12,
   "metadata": {},
   "outputs": [
    {
     "data": {
      "text/html": [
       "<div>\n",
       "<style scoped>\n",
       "    .dataframe tbody tr th:only-of-type {\n",
       "        vertical-align: middle;\n",
       "    }\n",
       "\n",
       "    .dataframe tbody tr th {\n",
       "        vertical-align: top;\n",
       "    }\n",
       "\n",
       "    .dataframe thead th {\n",
       "        text-align: right;\n",
       "    }\n",
       "</style>\n",
       "<table border=\"1\" class=\"dataframe\">\n",
       "  <thead>\n",
       "    <tr style=\"text-align: right;\">\n",
       "      <th></th>\n",
       "      <th>name</th>\n",
       "      <th>2016-01</th>\n",
       "      <th>2016-02</th>\n",
       "      <th>2016-03</th>\n",
       "      <th>2016-04</th>\n",
       "      <th>2016-05</th>\n",
       "      <th>2016-06</th>\n",
       "      <th>2016-07</th>\n",
       "      <th>2016-08</th>\n",
       "      <th>2016-09</th>\n",
       "      <th>2016-10</th>\n",
       "      <th>2016-11</th>\n",
       "      <th>2016-12</th>\n",
       "    </tr>\n",
       "  </thead>\n",
       "  <tbody>\n",
       "    <tr>\n",
       "      <th>0</th>\n",
       "      <td>BURNABY SIMON FRASER U</td>\n",
       "      <td>1809</td>\n",
       "      <td>1482</td>\n",
       "      <td>2159</td>\n",
       "      <td>374</td>\n",
       "      <td>606</td>\n",
       "      <td>428</td>\n",
       "      <td>442</td>\n",
       "      <td>68</td>\n",
       "      <td>956</td>\n",
       "      <td>1429</td>\n",
       "      <td>1349</td>\n",
       "      <td>1846</td>\n",
       "    </tr>\n",
       "    <tr>\n",
       "      <th>1</th>\n",
       "      <td>CALGARY INTL A</td>\n",
       "      <td>121</td>\n",
       "      <td>22</td>\n",
       "      <td>46</td>\n",
       "      <td>40</td>\n",
       "      <td>683</td>\n",
       "      <td>616</td>\n",
       "      <td>2061</td>\n",
       "      <td>834</td>\n",
       "      <td>253</td>\n",
       "      <td>276</td>\n",
       "      <td>27</td>\n",
       "      <td>224</td>\n",
       "    </tr>\n",
       "    <tr>\n",
       "      <th>2</th>\n",
       "      <td>GANDER INTL A</td>\n",
       "      <td>896</td>\n",
       "      <td>1232</td>\n",
       "      <td>992</td>\n",
       "      <td>1106</td>\n",
       "      <td>1236</td>\n",
       "      <td>1015</td>\n",
       "      <td>1264</td>\n",
       "      <td>1096</td>\n",
       "      <td>1026</td>\n",
       "      <td>2422</td>\n",
       "      <td>1184</td>\n",
       "      <td>1099</td>\n",
       "    </tr>\n",
       "    <tr>\n",
       "      <th>3</th>\n",
       "      <td>HALIFAX INTL A</td>\n",
       "      <td>1491</td>\n",
       "      <td>1473</td>\n",
       "      <td>1452</td>\n",
       "      <td>1595</td>\n",
       "      <td>1001</td>\n",
       "      <td>725</td>\n",
       "      <td>734</td>\n",
       "      <td>445</td>\n",
       "      <td>845</td>\n",
       "      <td>2185</td>\n",
       "      <td>1305</td>\n",
       "      <td>1835</td>\n",
       "    </tr>\n",
       "    <tr>\n",
       "      <th>4</th>\n",
       "      <td>REVELSTOKE</td>\n",
       "      <td>930</td>\n",
       "      <td>561</td>\n",
       "      <td>533</td>\n",
       "      <td>204</td>\n",
       "      <td>546</td>\n",
       "      <td>748</td>\n",
       "      <td>662</td>\n",
       "      <td>274</td>\n",
       "      <td>785</td>\n",
       "      <td>1620</td>\n",
       "      <td>1293</td>\n",
       "      <td>295</td>\n",
       "    </tr>\n",
       "    <tr>\n",
       "      <th>5</th>\n",
       "      <td>SHERBROOKE</td>\n",
       "      <td>183</td>\n",
       "      <td>982</td>\n",
       "      <td>621</td>\n",
       "      <td>471</td>\n",
       "      <td>667</td>\n",
       "      <td>671</td>\n",
       "      <td>525</td>\n",
       "      <td>1599</td>\n",
       "      <td>433</td>\n",
       "      <td>1176</td>\n",
       "      <td>594</td>\n",
       "      <td>627</td>\n",
       "    </tr>\n",
       "    <tr>\n",
       "      <th>6</th>\n",
       "      <td>TORONTO LESTER B. PEARSON INT'</td>\n",
       "      <td>363</td>\n",
       "      <td>491</td>\n",
       "      <td>729</td>\n",
       "      <td>681</td>\n",
       "      <td>346</td>\n",
       "      <td>269</td>\n",
       "      <td>399</td>\n",
       "      <td>667</td>\n",
       "      <td>663</td>\n",
       "      <td>452</td>\n",
       "      <td>497</td>\n",
       "      <td>821</td>\n",
       "    </tr>\n",
       "    <tr>\n",
       "      <th>7</th>\n",
       "      <td>VANCOUVER INTL A</td>\n",
       "      <td>1682</td>\n",
       "      <td>1304</td>\n",
       "      <td>1616</td>\n",
       "      <td>242</td>\n",
       "      <td>516</td>\n",
       "      <td>582</td>\n",
       "      <td>328</td>\n",
       "      <td>138</td>\n",
       "      <td>784</td>\n",
       "      <td>2034</td>\n",
       "      <td>2402</td>\n",
       "      <td>1520</td>\n",
       "    </tr>\n",
       "    <tr>\n",
       "      <th>8</th>\n",
       "      <td>YELLOWKNIFE A</td>\n",
       "      <td>220</td>\n",
       "      <td>90</td>\n",
       "      <td>28</td>\n",
       "      <td>120</td>\n",
       "      <td>98</td>\n",
       "      <td>306</td>\n",
       "      <td>154</td>\n",
       "      <td>280</td>\n",
       "      <td>488</td>\n",
       "      <td>158</td>\n",
       "      <td>176</td>\n",
       "      <td>116</td>\n",
       "    </tr>\n",
       "  </tbody>\n",
       "</table>\n",
       "</div>"
      ],
      "text/plain": [
       "                             name  2016-01  2016-02  2016-03  2016-04  \\\n",
       "0          BURNABY SIMON FRASER U     1809     1482     2159      374   \n",
       "1                  CALGARY INTL A      121       22       46       40   \n",
       "2                   GANDER INTL A      896     1232      992     1106   \n",
       "3                  HALIFAX INTL A     1491     1473     1452     1595   \n",
       "4                      REVELSTOKE      930      561      533      204   \n",
       "5                      SHERBROOKE      183      982      621      471   \n",
       "6  TORONTO LESTER B. PEARSON INT'      363      491      729      681   \n",
       "7                VANCOUVER INTL A     1682     1304     1616      242   \n",
       "8                   YELLOWKNIFE A      220       90       28      120   \n",
       "\n",
       "   2016-05  2016-06  2016-07  2016-08  2016-09  2016-10  2016-11  2016-12  \n",
       "0      606      428      442       68      956     1429     1349     1846  \n",
       "1      683      616     2061      834      253      276       27      224  \n",
       "2     1236     1015     1264     1096     1026     2422     1184     1099  \n",
       "3     1001      725      734      445      845     2185     1305     1835  \n",
       "4      546      748      662      274      785     1620     1293      295  \n",
       "5      667      671      525     1599      433     1176      594      627  \n",
       "6      346      269      399      667      663      452      497      821  \n",
       "7      516      582      328      138      784     2034     2402     1520  \n",
       "8       98      306      154      280      488      158      176      116  "
      ]
     },
     "execution_count": 12,
     "metadata": {},
     "output_type": "execute_result"
    }
   ],
   "source": [
    "totals = pd.read_csv('totals.csv').reset_index()\n",
    "total = pd.read_csv('totals.csv')\n",
    "#counts = pd.read_csv('counts.csv').set_index(['name'])\n",
    "\n",
    "totals"
   ]
  },
  {
   "cell_type": "code",
   "execution_count": 3,
   "metadata": {
    "collapsed": true
   },
   "outputs": [
    {
     "data": {
      "text/plain": [
       "0     5203\n",
       "1    14568\n",
       "2    15086\n",
       "3     8451\n",
       "4     8549\n",
       "5     6378\n",
       "6    13148\n",
       "7     2234\n",
       "dtype: int64"
      ]
     },
     "execution_count": 3,
     "metadata": {},
     "output_type": "execute_result"
    }
   ],
   "source": [
    "#sum = pd.DataFrame.sum(totals,axis = 1)\n",
    "sum = np.sum(totals,axis=1)\n",
    "sum"
   ]
  },
  {
   "cell_type": "code",
   "execution_count": 4,
   "metadata": {
    "scrolled": true
   },
   "outputs": [
    {
     "name": "stdout",
     "output_type": "stream",
     "text": [
      "7\n"
     ]
    }
   ],
   "source": [
    "print(sum.idxmin())"
   ]
  },
  {
   "cell_type": "code",
   "execution_count": 5,
   "metadata": {},
   "outputs": [
    {
     "ename": "NameError",
     "evalue": "name 'counts' is not defined",
     "output_type": "error",
     "traceback": [
      "\u001b[0;31m---------------------------------------------------------------------------\u001b[0m",
      "\u001b[0;31mNameError\u001b[0m                                 Traceback (most recent call last)",
      "\u001b[0;32m<ipython-input-5-9bc67f66e374>\u001b[0m in \u001b[0;36m<module>\u001b[0;34m\u001b[0m\n\u001b[1;32m      1\u001b[0m \u001b[0mtotals_sum\u001b[0m \u001b[0;34m=\u001b[0m \u001b[0mpd\u001b[0m\u001b[0;34m.\u001b[0m\u001b[0mDataFrame\u001b[0m\u001b[0;34m.\u001b[0m\u001b[0msum\u001b[0m\u001b[0;34m(\u001b[0m\u001b[0mtotals\u001b[0m\u001b[0;34m,\u001b[0m\u001b[0maxis\u001b[0m \u001b[0;34m=\u001b[0m \u001b[0;36m0\u001b[0m\u001b[0;34m)\u001b[0m\u001b[0;34m\u001b[0m\u001b[0;34m\u001b[0m\u001b[0m\n\u001b[0;32m----> 2\u001b[0;31m \u001b[0mtotals_count\u001b[0m \u001b[0;34m=\u001b[0m \u001b[0mcounts\u001b[0m\u001b[0;34m.\u001b[0m\u001b[0msum\u001b[0m\u001b[0;34m(\u001b[0m\u001b[0maxis\u001b[0m \u001b[0;34m=\u001b[0m \u001b[0;36m0\u001b[0m\u001b[0;34m)\u001b[0m\u001b[0;34m\u001b[0m\u001b[0;34m\u001b[0m\u001b[0m\n\u001b[0m",
      "\u001b[0;31mNameError\u001b[0m: name 'counts' is not defined"
     ]
    }
   ],
   "source": [
    "totals_sum = pd.DataFrame.sum(totals,axis = 0)\n",
    "totals_count = counts.sum(axis = 0)"
   ]
  },
  {
   "cell_type": "code",
   "execution_count": null,
   "metadata": {},
   "outputs": [],
   "source": [
    "average = totals_sum/totals_count\n",
    "print('Average precipitation in each month:')\n",
    "print(average)"
   ]
  },
  {
   "cell_type": "code",
   "execution_count": null,
   "metadata": {},
   "outputs": [],
   "source": [
    "totals_sum = pd.DataFrame.sum(totals,axis = 1)\n",
    "totals_count = counts.sum(axis = 1)\n",
    "totals_sum"
   ]
  },
  {
   "cell_type": "code",
   "execution_count": null,
   "metadata": {},
   "outputs": [],
   "source": [
    "average = totals_sum/totals_count\n",
    "print('Average precipitation in each city:')\n",
    "print(average)"
   ]
  }
 ],
 "metadata": {
  "kernelspec": {
   "display_name": "Python 3",
   "language": "python",
   "name": "python3"
  },
  "language_info": {
   "codemirror_mode": {
    "name": "ipython",
    "version": 3
   },
   "file_extension": ".py",
   "mimetype": "text/x-python",
   "name": "python",
   "nbconvert_exporter": "python",
   "pygments_lexer": "ipython3",
   "version": "3.7.4"
  }
 },
 "nbformat": 4,
 "nbformat_minor": 2
}
