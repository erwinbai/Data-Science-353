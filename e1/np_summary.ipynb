{
 "cells": [
  {
   "cell_type": "code",
   "execution_count": 1,
   "metadata": {},
   "outputs": [],
   "source": [
    "import numpy as np\n",
    "import pandas as pd"
   ]
  },
  {
   "cell_type": "code",
   "execution_count": 2,
   "metadata": {
    "scrolled": true
   },
   "outputs": [
    {
     "data": {
      "text/plain": [
       "array([[1809, 1482, 2159,  374,  606,  428,  442,   68,  956, 1429, 1349,\n",
       "        1846],\n",
       "       [ 121,   22,   46,   40,  683,  616, 2061,  834,  253,  276,   27,\n",
       "         224],\n",
       "       [ 896, 1232,  992, 1106, 1236, 1015, 1264, 1096, 1026, 2422, 1184,\n",
       "        1099],\n",
       "       [1491, 1473, 1452, 1595, 1001,  725,  734,  445,  845, 2185, 1305,\n",
       "        1835],\n",
       "       [ 930,  561,  533,  204,  546,  748,  662,  274,  785, 1620, 1293,\n",
       "         295],\n",
       "       [ 183,  982,  621,  471,  667,  671,  525, 1599,  433, 1176,  594,\n",
       "         627],\n",
       "       [ 363,  491,  729,  681,  346,  269,  399,  667,  663,  452,  497,\n",
       "         821],\n",
       "       [1682, 1304, 1616,  242,  516,  582,  328,  138,  784, 2034, 2402,\n",
       "        1520],\n",
       "       [ 220,   90,   28,  120,   98,  306,  154,  280,  488,  158,  176,\n",
       "         116]])"
      ]
     },
     "execution_count": 2,
     "metadata": {},
     "output_type": "execute_result"
    }
   ],
   "source": [
    "data = np.load('monthdata.npz')\n",
    "data2 = pd.read_csv('monthdata.npz')\n",
    "totals = data['totals']\n",
    "counts = data['counts']\n",
    "totals"
   ]
  },
  {
   "cell_type": "code",
   "execution_count": 4,
   "metadata": {
    "scrolled": true
   },
   "outputs": [
    {
     "name": "stdout",
     "output_type": "stream",
     "text": [
      "Row with lowest total precipitation:\n",
      "[12948  5203 14568 15086  8451  8549  6378 13148  2234]\n",
      "8\n"
     ]
    }
   ],
   "source": [
    "sum = np.sum(totals, axis = 1)\n",
    "print('Row with lowest total precipitation:')\n",
    "print(sum)\n",
    "sum_arg = np.argmin(sum, axis = 0)\n",
    "print(sum_arg)"
   ]
  },
  {
   "cell_type": "code",
   "execution_count": null,
   "metadata": {},
   "outputs": [],
   "source": [
    "sum_totals = np.sum(totals, axis = 0)\n",
    "sum_counts = np.sum(counts, axis = 0)\n",
    "print('Average precipitation in each month:')\n",
    "print(sum_totals/sum_counts)"
   ]
  },
  {
   "cell_type": "code",
   "execution_count": null,
   "metadata": {},
   "outputs": [],
   "source": [
    "sum_totals = np.sum(totals, axis = 1)\n",
    "sum_counts = np.sum(counts, axis = 1)\n",
    "print('Average precipitation in each city:')\n",
    "print(sum_totals/sum_counts)"
   ]
  },
  {
   "cell_type": "code",
   "execution_count": null,
   "metadata": {},
   "outputs": [],
   "source": [
    "new_totals = np.reshape(totals,(9,4,3))\n",
    "print(new_totals)\n",
    "quater_totals = np.sum(new_totals,axis = 2)\n",
    "print(quater_totals)"
   ]
  },
  {
   "cell_type": "code",
   "execution_count": null,
   "metadata": {},
   "outputs": [],
   "source": [
    "some_ints = np.array([[1,2], [3,4]])"
   ]
  },
  {
   "cell_type": "code",
   "execution_count": null,
   "metadata": {},
   "outputs": [],
   "source": [
    "def double_plus_single(x):\n",
    "    return 2*x + 1\n",
    "\n",
    "double_plus = np.vectorize(double_plus_single,otypes=[np.float])\n",
    "res = double_plus(some_ints)\n",
    "print(res)\n",
    "print(res.dtype)"
   ]
  },
  {
   "cell_type": "code",
   "execution_count": null,
   "metadata": {},
   "outputs": [],
   "source": [
    "def myfunc(a, b):\n",
    "     \"Return a-b if a>b, otherwise return a+b\"\n",
    "     if a > b:\n",
    "         return a - b\n",
    "     else:\n",
    "         return a + b\n",
    "#vfunc = np.vectorize(myfunc)\n",
    "vfunc([1, 2, 3, 4], 2)"
   ]
  },
  {
   "cell_type": "code",
   "execution_count": null,
   "metadata": {},
   "outputs": [],
   "source": []
  },
  {
   "cell_type": "code",
   "execution_count": null,
   "metadata": {},
   "outputs": [],
   "source": []
  }
 ],
 "metadata": {
  "kernelspec": {
   "display_name": "Python 3",
   "language": "python",
   "name": "python3"
  },
  "language_info": {
   "codemirror_mode": {
    "name": "ipython",
    "version": 3
   },
   "file_extension": ".py",
   "mimetype": "text/x-python",
   "name": "python",
   "nbconvert_exporter": "python",
   "pygments_lexer": "ipython3",
   "version": "3.7.3"
  }
 },
 "nbformat": 4,
 "nbformat_minor": 2
}
