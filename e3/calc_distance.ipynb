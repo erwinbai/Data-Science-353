{
 "cells": [
  {
   "cell_type": "code",
   "execution_count": 1,
   "metadata": {},
   "outputs": [],
   "source": [
    "import xml.dom.minidom as dom\n",
    "import pandas as pd\n",
    "import numpy as np\n",
    "import sys\n",
    "from pykalman import KalmanFilter\n",
    "from math import cos, asin, sqrt, pi"
   ]
  },
  {
   "cell_type": "code",
   "execution_count": 2,
   "metadata": {},
   "outputs": [],
   "source": [
    "def output_gpx(points, output_filename):\n",
    "    \"\"\"\n",
    "    Output a GPX file with latitude and longitude from the points DataFrame.\n",
    "    \"\"\"\n",
    "    from xml.dom.minidom import getDOMImplementation\n",
    "    def append_trkpt(pt, trkseg, doc):\n",
    "        trkpt = doc.createElement('trkpt')\n",
    "        trkpt.setAttribute('lat', '%.8f' % (pt['lat']))\n",
    "        trkpt.setAttribute('lon', '%.8f' % (pt['lon']))\n",
    "        trkseg.appendChild(trkpt)\n",
    "    \n",
    "    doc = getDOMImplementation().createDocument(None, 'gpx', None)\n",
    "    trk = doc.createElement('trk')\n",
    "    doc.documentElement.appendChild(trk)\n",
    "    trkseg = doc.createElement('trkseg')\n",
    "    trk.appendChild(trkseg)\n",
    "    \n",
    "    points.apply(append_trkpt, axis=1, trkseg=trkseg, doc=doc)\n",
    "    \n",
    "    with open(output_filename, 'w') as fh:\n",
    "        doc.writexml(fh, indent=' ')\n"
   ]
  },
  {
   "cell_type": "code",
   "execution_count": 3,
   "metadata": {},
   "outputs": [],
   "source": [
    "def get_data(filename):\n",
    "    file = dom.parse(filename, parser=None, bufsize=None)\n",
    "    data_trkpt = file.getElementsByTagName('trkpt')\n",
    "    data_lat_lon = pd.DataFrame(columns=['lat', 'lon'])\n",
    "    \n",
    "    for i in range(len(data_trkpt)):\n",
    "        data_lat_lon.loc[i]=float(data_trkpt[i].attributes['lat'].value) , float(data_trkpt[i].attributes['lon'].value)\n",
    "    return data_lat_lon"
   ]
  },
  {
   "cell_type": "code",
   "execution_count": 4,
   "metadata": {},
   "outputs": [],
   "source": [
    "# https://stackoverflow.com/questions/27928/calculate-distance-between-two-latitude-longitude-points-haversine-formula/21623206\n",
    "#The below code for caculation of two points is Edited by Alexander Volkov, Answered by Salvador Dali "
   ]
  },
  {
   "cell_type": "code",
   "execution_count": 5,
   "metadata": {},
   "outputs": [],
   "source": [
    "def distance_between_points(lat1, lon1, lat2, lon2):\n",
    "    p = pi/180     #Pi/180\n",
    "    a = 0.5 - cos((lat2 - lat1) * p)/2 + cos(lat1 * p) * cos(lat2 * p) *  (1 - cos((lon2 - lon1) * p)) / 2\n",
    "    \n",
    "    return 12742 * asin(sqrt(a))"
   ]
  },
  {
   "cell_type": "code",
   "execution_count": 6,
   "metadata": {},
   "outputs": [],
   "source": [
    "distance_for_points = np.vectorize(distance_between_points)"
   ]
  },
  {
   "cell_type": "code",
   "execution_count": 7,
   "metadata": {},
   "outputs": [],
   "source": [
    "def distance(dataf):\n",
    "    dataf['distance']=distance_for_points(dataf['lat'],dataf['lon'],dataf['lat'].shift(periods=-1),dataf['lon'].shift(periods=-1));\n",
    "    dis = dataf['distance'].sum()\n",
    "    \n",
    "    del dataf['distance']\n",
    "    return dis * 1000"
   ]
  },
  {
   "cell_type": "code",
   "execution_count": 8,
   "metadata": {},
   "outputs": [],
   "source": [
    "def smooth(dataf):\n",
    "    initial_state = dataf.iloc[0]\n",
    "    #lat lon\n",
    "    observation_covariance = np.diag([17.5/10**5, 17.5/10**5]) ** 2 # TODO: shouldn't be zero\n",
    "    transition_covariance = np.diag([10/10**5,10/10**5]) ** 2 # TODO: shouldn't be zero\n",
    "    transition = [[1, 0], [0, 1]] # TODO: shouldn't (all) be zero\n",
    "    \n",
    "    kf = KalmanFilter(\n",
    "        initial_state_mean=initial_state,\n",
    "        initial_state_covariance=observation_covariance,\n",
    "        observation_covariance=observation_covariance,\n",
    "        transition_covariance=transition_covariance,\n",
    "        transition_matrices=transition\n",
    "    )\n",
    "    kalman_smoothed, _ = kf.smooth(dataf)\n",
    "    temp = pd.DataFrame(kalman_smoothed,columns=['lat','lon'])\n",
    "    return temp"
   ]
  },
  {
   "cell_type": "code",
   "execution_count": 9,
   "metadata": {},
   "outputs": [
    {
     "name": "stdout",
     "output_type": "stream",
     "text": [
      "Unfiltered distance: 3186.44\n",
      "Filtered distance: 1398.69\n"
     ]
    }
   ],
   "source": [
    "def main():\n",
    "    #points = get_data(sys.argv[1])\n",
    "    points = get_data(\"walk1.gpx\")\n",
    "    print('Unfiltered distance: %0.2f' % (distance(points),))\n",
    "    smoothed_points = smooth(points)\n",
    "    \n",
    "    print('Filtered distance: %0.2f' % (distance(smoothed_points),))\n",
    "    output_gpx(smoothed_points, 'out.gpx')\n",
    "\n",
    "\n",
    "if __name__ == '__main__':\n",
    "    main()"
   ]
  },
  {
   "cell_type": "code",
   "execution_count": null,
   "metadata": {},
   "outputs": [],
   "source": []
  }
 ],
 "metadata": {
  "kernelspec": {
   "display_name": "Python 3",
   "language": "python",
   "name": "python3"
  },
  "language_info": {
   "codemirror_mode": {
    "name": "ipython",
    "version": 3
   },
   "file_extension": ".py",
   "mimetype": "text/x-python",
   "name": "python",
   "nbconvert_exporter": "python",
   "pygments_lexer": "ipython3",
   "version": "3.7.3"
  }
 },
 "nbformat": 4,
 "nbformat_minor": 2
}
