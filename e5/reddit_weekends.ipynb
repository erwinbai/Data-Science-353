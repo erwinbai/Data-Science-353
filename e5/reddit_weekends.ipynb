{
 "cells": [
  {
   "cell_type": "code",
   "execution_count": 1,
   "metadata": {},
   "outputs": [],
   "source": [
    "import sys\n",
    "import pandas as pd\n",
    "\n",
    "#This link help to understand datetime weekdays()\n",
    "#https://docs.python.org/3/library/datetime.html#datetime.date.weekday\n",
    "import datetime as dt\n",
    "\n",
    "import numpy as np\n",
    "import scipy.stats as stats\n",
    "import matplotlib.pyplot as plt\n",
    "\n",
    "OUTPUT_TEMPLATE = (\n",
    "    \"Initial (invalid) T-test p-value: {initial_ttest_p:.3g}\\n\"\n",
    "    \"Original data normality p-values: {initial_weekday_normality_p:.3g} {initial_weekend_normality_p:.3g}\\n\"\n",
    "    \"Original data equal-variance p-value: {initial_levene_p:.3g}\\n\"\n",
    "    \"Transformed data normality p-values: {transformed_weekday_normality_p:.3g} {transformed_weekend_normality_p:.3g}\\n\"\n",
    "    \"Transformed data equal-variance p-value: {transformed_levene_p:.3g}\\n\"\n",
    "    \"Weekly data normality p-values: {weekly_weekday_normality_p:.3g} {weekly_weekend_normality_p:.3g}\\n\"\n",
    "    \"Weekly data equal-variance p-value: {weekly_levene_p:.3g}\\n\"\n",
    "    \"Weekly T-test p-value: {weekly_ttest_p:.3g}\\n\"\n",
    "    \"Mann–Whitney U-test p-value: {utest_p:.3g}\"\n",
    ")\n"
   ]
  },
  {
   "cell_type": "code",
   "execution_count": 2,
   "metadata": {
    "scrolled": false
   },
   "outputs": [
    {
     "name": "stdout",
     "output_type": "stream",
     "text": [
      "          date subreddit  comment_count\n",
      "0   2013-03-14    canada           1657\n",
      "1   2013-07-08    canada           1369\n",
      "2   2012-07-04    canada           1343\n",
      "3   2013-03-11    canada           1619\n",
      "4   2013-09-11    canada           1909\n",
      "..         ...       ...            ...\n",
      "726 2013-01-01    canada           2113\n",
      "727 2013-07-27    canada           1070\n",
      "728 2012-10-19    canada           1486\n",
      "729 2012-01-15    canada           1256\n",
      "730 2012-01-02    canada           1127\n",
      "\n",
      "[731 rows x 3 columns]\n"
     ]
    }
   ],
   "source": [
    "# sys.argv[1] = 'reddit-counts.json.gz'\n",
    "# counts = pd.read_json(sys.argv[1], lines=True)\n",
    "counts = pd.read_json('reddit-counts.json.gz', lines=True)\n",
    "#print(counts)\n",
    "#Adapted from \n",
    "#https://stackoverflow.com/questions/17071871/select-rows-from-a-dataframe-based-on-values-in-a-column-in-pandas\n",
    "#answered by unutbu on Jun 12 2013\n",
    "#which teaches how to select rows from a df based on value in column \n",
    "\n",
    "counts = counts.loc[counts['date'] >= '2012-01-01']  \n",
    "counts = counts.loc[counts['date'] <= '2013-12-31']  \n",
    "counts = counts.loc[counts['subreddit'] == 'canada']\n",
    "counts = counts.reset_index(drop=True)\n",
    "print(counts)"
   ]
  },
  {
   "cell_type": "code",
   "execution_count": 3,
   "metadata": {},
   "outputs": [],
   "source": [
    "#This is provided by \n",
    "#https://pandas.pydata.org/pandas-docs/stable/reference/api/pandas.DatetimeIndex.weekday.html\n",
    "#which teches weekday() using pandas.DAtetimeIndex.weekday\n",
    "# s = pd.date_range('2012-01-01','2012-1-31',freq='D').to_series()\n",
    "# s = s.dt.dayofweek\n",
    "# print(s)\n",
    "\n",
    "#https://www.geeksforgeeks.org/python-pandas-series-dt-dayofweek/\n",
    "#this graph representation of panda.series.dt.dayofweek further helped with the understanding of the above expression s=s.dt.dayofweek"
   ]
  },
  {
   "cell_type": "code",
   "execution_count": 4,
   "metadata": {},
   "outputs": [],
   "source": [
    "#dt.dayofweek adapted from above two link\n",
    "counts['days'] = counts['date'].dt.dayofweek\n",
    "weekday = counts.loc[counts['days'] <= 4]\n",
    "weekday = weekday.reset_index(drop=True)\n",
    "weekend = counts.loc[counts['days'] >= 5]\n",
    "weekend = weekend.reset_index(drop=True)\n",
    "#print(weekday)\n",
    "#print(weekend)"
   ]
  },
  {
   "cell_type": "code",
   "execution_count": 5,
   "metadata": {},
   "outputs": [],
   "source": [
    "#below code is from lecture\n",
    "# x1 = np.random.normal(6.0, 2.5, 17)\n",
    "# x2 = np.random.normal(5.0, 2.5, 15)\n",
    "\n",
    "# ttest = stats.ttest_ind(x1, x2).pvalue\n",
    "# print(x1.mean(), x2.mean())\n",
    "# print(ttest)\n",
    "#above "
   ]
  },
  {
   "cell_type": "code",
   "execution_count": 6,
   "metadata": {},
   "outputs": [
    {
     "name": "stdout",
     "output_type": "stream",
     "text": [
      "1.3005502847207912e-58\n"
     ]
    }
   ],
   "source": [
    "ttest = stats.ttest_ind(weekday['comment_count'],weekend['comment_count']).pvalue\n",
    "print(ttest)"
   ]
  },
  {
   "cell_type": "code",
   "execution_count": 7,
   "metadata": {},
   "outputs": [
    {
     "name": "stdout",
     "output_type": "stream",
     "text": [
      "1.0091137251707994e-07\n",
      "0.0015209196859635404\n"
     ]
    }
   ],
   "source": [
    "stat1 = stats.normaltest(weekday['comment_count']).pvalue\n",
    "stat2 = stats.normaltest(weekend['comment_count']).pvalue\n",
    "print(stat1)\n",
    "print(stat2)"
   ]
  },
  {
   "cell_type": "code",
   "execution_count": 8,
   "metadata": {},
   "outputs": [],
   "source": [
    "stat3 = stats.levene(weekday['comment_count'],weekend['comment_count']).pvalue\n",
    "#print(stat3)"
   ]
  },
  {
   "cell_type": "code",
   "execution_count": 9,
   "metadata": {},
   "outputs": [],
   "source": [
    "# how to plot histogram\n",
    "# https://matplotlib.org/3.1.1/gallery/statistics/hist.html\n",
    "#plt.hist(weekday['comment_count'])"
   ]
  },
  {
   "cell_type": "code",
   "execution_count": 10,
   "metadata": {},
   "outputs": [],
   "source": [
    "#plt.hist(weekend['comment_count'])"
   ]
  },
  {
   "cell_type": "code",
   "execution_count": 11,
   "metadata": {},
   "outputs": [],
   "source": [
    "#x1 = np.log(weekday['comment_count']) # 0.0004\n",
    "#x1 = np.exp(weekday['comment_count'])  #1.0091 e-07\n",
    "x1 = np.sqrt(weekday['comment_count'])  #0.036\n",
    "#plt.hist(weekday['comment_count'])\n",
    "stat4 = stats.normaltest(x1).pvalue\n",
    "#print(stat4)"
   ]
  },
  {
   "cell_type": "code",
   "execution_count": 12,
   "metadata": {},
   "outputs": [],
   "source": [
    "#x2 = np.log(weekend['comment_count']) #0.10\n",
    "#x2 = np.exp(weekend['comment_count']) # 3.744e-74\n",
    "x2 = np.sqrt(weekend['comment_count']) #0.10\n",
    "#plt.hist(weekend['comment_count'])\n",
    "stat5 = stats.normaltest(x2).pvalue\n",
    "#print(stat5)"
   ]
  },
  {
   "cell_type": "code",
   "execution_count": 13,
   "metadata": {},
   "outputs": [],
   "source": [
    "stat6 = stats.levene(weekday['comment_count'],weekend['comment_count']).pvalue\n",
    "#print(stat6)"
   ]
  },
  {
   "cell_type": "code",
   "execution_count": 14,
   "metadata": {},
   "outputs": [],
   "source": [
    "#I recvied help from a fellow class mate name \"weibao sun\" \n",
    "#from our class cmpt 353 for understanding and explaing the function and isocalendar() below\n",
    "def getisocalendar (x):\n",
    "        tuple = x.isocalendar()\n",
    "        return str(tuple[0])+ ' ' +str(tuple[1])  \n",
    "    # this means we are taking year+month(which we convert to week number by isocalendar)  "
   ]
  },
  {
   "cell_type": "code",
   "execution_count": 15,
   "metadata": {
    "scrolled": false
   },
   "outputs": [],
   "source": [
    "weekday['yearmonth'] = weekday['date'].apply(getisocalendar)\n",
    "weekend['yearmonth'] = weekend['date'].apply(getisocalendar)\n",
    "# print(weekday)\n",
    "x = weekday.groupby(['yearmonth']).agg('mean')\n",
    "#x = x['comment_count'].sum()\n",
    "#print(x)\n",
    "y = weekend.groupby(['yearmonth']).agg('mean')\n",
    "#y = y['comment_count'].sum()\n",
    "#print(y)"
   ]
  },
  {
   "cell_type": "code",
   "execution_count": 16,
   "metadata": {},
   "outputs": [],
   "source": [
    "stat7 = stats.ttest_ind(x['comment_count'],y['comment_count']).pvalue\n",
    "stat8 = stats.normaltest(x['comment_count']).pvalue\n",
    "stat9 = stats.normaltest(y['comment_count']).pvalue\n",
    "stat10 = stats.levene(x['comment_count'],y['comment_count']).pvalue\n",
    "# print(stat7)\n",
    "# print(stat8)\n",
    "# print(stat9)"
   ]
  },
  {
   "cell_type": "code",
   "execution_count": 17,
   "metadata": {},
   "outputs": [],
   "source": [
    "man = stats.mannwhitneyu(weekday['comment_count'],weekend['comment_count']).pvalue\n",
    "# print(man)"
   ]
  },
  {
   "cell_type": "code",
   "execution_count": 18,
   "metadata": {},
   "outputs": [
    {
     "name": "stdout",
     "output_type": "stream",
     "text": [
      "Initial (invalid) T-test p-value: 1.3e-58\n",
      "Original data normality p-values: 1.01e-07 0.00152\n",
      "Original data equal-variance p-value: 0.0438\n",
      "Transformed data normality p-values: 0.0369 0.108\n",
      "Transformed data equal-variance p-value: 0.0438\n",
      "Weekly data normality p-values: 0.308 0.153\n",
      "Weekly data equal-variance p-value: 0.204\n",
      "Weekly T-test p-value: 1.34e-34\n",
      "Mann–Whitney U-test p-value: 4.31e-53\n"
     ]
    }
   ],
   "source": [
    "def main():\n",
    "    reddit_counts = sys.argv[1]\n",
    "    #reddit_counts = 'reddit-counts.json.gz'\n",
    "    # ...\n",
    "\n",
    "    print(OUTPUT_TEMPLATE.format(\n",
    "        initial_ttest_p= ttest,\n",
    "        initial_weekday_normality_p= stat1,\n",
    "        initial_weekend_normality_p= stat2,\n",
    "        initial_levene_p=stat3,\n",
    "        transformed_weekday_normality_p=stat4,\n",
    "        transformed_weekend_normality_p=stat5,\n",
    "        transformed_levene_p=stat6,\n",
    "        weekly_weekday_normality_p=stat8,\n",
    "        weekly_weekend_normality_p=stat9,\n",
    "        weekly_levene_p=stat10,\n",
    "        weekly_ttest_p=stat7,\n",
    "        utest_p=man,\n",
    "    ))\n",
    "\n",
    "\n",
    "if __name__ == '__main__':\n",
    "    main()"
   ]
  },
  {
   "cell_type": "code",
   "execution_count": null,
   "metadata": {},
   "outputs": [],
   "source": []
  },
  {
   "cell_type": "code",
   "execution_count": null,
   "metadata": {},
   "outputs": [],
   "source": []
  }
 ],
 "metadata": {
  "kernelspec": {
   "display_name": "Python 3",
   "language": "python",
   "name": "python3"
  },
  "language_info": {
   "codemirror_mode": {
    "name": "ipython",
    "version": 3
   },
   "file_extension": ".py",
   "mimetype": "text/x-python",
   "name": "python",
   "nbconvert_exporter": "python",
   "pygments_lexer": "ipython3",
   "version": "3.7.3"
  }
 },
 "nbformat": 4,
 "nbformat_minor": 2
}
