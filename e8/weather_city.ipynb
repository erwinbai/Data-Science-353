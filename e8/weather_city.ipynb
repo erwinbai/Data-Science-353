{
 "cells": [
  {
   "cell_type": "code",
   "execution_count": 1,
   "metadata": {},
   "outputs": [],
   "source": [
    "import numpy as np\n",
    "import pandas as pd\n",
    "import matplotlib.pyplot as plt\n",
    "from skimage.color import lab2rgb\n",
    "import sys\n",
    "\n",
    "from sklearn.model_selection import train_test_split\n",
    "from sklearn.naive_bayes import GaussianNB\n",
    "from sklearn.pipeline import make_pipeline\n",
    "from sklearn.preprocessing import FunctionTransformer\n",
    "from sklearn.neighbors import KNeighborsClassifier\n",
    "from sklearn.ensemble import RandomForestClassifier\n",
    "\n",
    "from sklearn.preprocessing import MinMaxScaler, StandardScaler"
   ]
  },
  {
   "cell_type": "code",
   "execution_count": 2,
   "metadata": {},
   "outputs": [],
   "source": [
    "labelled = pd.read_csv('monthly-data-labelled.csv')\n",
    "unlabelled = pd.read_csv('monthly-data-unlabelled.csv')\n",
    "#print(labelled)"
   ]
  },
  {
   "cell_type": "code",
   "execution_count": 3,
   "metadata": {},
   "outputs": [],
   "source": [
    "#print(unlabelled)"
   ]
  },
  {
   "cell_type": "code",
   "execution_count": 4,
   "metadata": {},
   "outputs": [],
   "source": [
    "#X = labelled[['tmax-01', 'tmax-02', 'tmx-03']]\n",
    "#At first I was doing something like this, but after few selecting column, it seems completely stupid\n",
    "#So I did some research\n",
    "#https://www.shanelynn.ie/using-pandas-dataframe-creating-editing-viewing-data-in-python/#targetText=To%20delete%20rows%20and%20columns,the%20need%20for%20'axis'.\n"
   ]
  },
  {
   "cell_type": "code",
   "execution_count": 5,
   "metadata": {
    "scrolled": false
   },
   "outputs": [],
   "source": [
    "#This site give me the idea and way that we can use numeric indexing to select comlumn using column numbers\n",
    "X = labelled.iloc[:,[2,3,4,5,6,7,8,9,10,11,12,13,14,15,16,17,18,19,20,21,22,23,24,25,26,27,28,29,30,31,32,33,34,35,36,37,38,39,40,41,42,43,44,45,46,47,48,49,50,51,52,53,54,55,56,57,58,59,60,61]]\n",
    "# Yes,this is a stupid way after my friends told me I dont need to select the column if i could just remove year and city\n",
    "# print(X)"
   ]
  },
  {
   "cell_type": "code",
   "execution_count": 6,
   "metadata": {},
   "outputs": [],
   "source": [
    "y = labelled['city']\n",
    "# print(y)"
   ]
  },
  {
   "cell_type": "code",
   "execution_count": 7,
   "metadata": {},
   "outputs": [],
   "source": [
    "X_train, X_valid, y_train, y_valid = train_test_split(X, y, test_size=0.25, train_size=0.75)"
   ]
  },
  {
   "cell_type": "code",
   "execution_count": 8,
   "metadata": {},
   "outputs": [],
   "source": [
    "# from sklearn.ensemble import VotingClassifier\n",
    "# from sklearn.svm import SVC\n",
    "# from sklearn.tree import DecisionTreeClassifier\n",
    "# The below code is from lecture\n",
    "# model = VotingClassifier([\n",
    "#     ('nb', GaussianNB()),\n",
    "#     ('knn', KNeighborsClassifier(5)),\n",
    "#     ('svm', SVC(kernel='linear', C=0.1)),\n",
    "#     ('tree1', DecisionTreeClassifier(max_depth=4)),\n",
    "#     ('tree2', DecisionTreeClassifier(min_samples_leaf=10)),\n",
    "# ])\n",
    "# model.fit(X_train, y_train)\n",
    "# predictions = model.score(X_valid, y_valid)\n",
    "# print(predictions)\n",
    "\n",
    "#I am not using voting classifier since i cannot tell which one is the best"
   ]
  },
  {
   "cell_type": "code",
   "execution_count": 9,
   "metadata": {},
   "outputs": [
    {
     "name": "stdout",
     "output_type": "stream",
     "text": [
      "0.6172413793103448\n"
     ]
    }
   ],
   "source": [
    "bayes = make_pipeline(\n",
    "    StandardScaler(),\n",
    "    GaussianNB()\n",
    "    )\n",
    "\n",
    "bayes.fit(X_train,y_train)\n",
    "print(bayes.score(X_valid,y_valid))"
   ]
  },
  {
   "cell_type": "code",
   "execution_count": 10,
   "metadata": {},
   "outputs": [
    {
     "name": "stdout",
     "output_type": "stream",
     "text": [
      "0.6827586206896552\n"
     ]
    }
   ],
   "source": [
    "knn = make_pipeline(\n",
    "    StandardScaler(),\n",
    "    KNeighborsClassifier(n_neighbors=25)\n",
    "    )\n",
    "\n",
    "knn.fit(X_train,y_train)\n",
    "print(knn.score(X_valid,y_valid))"
   ]
  },
  {
   "cell_type": "code",
   "execution_count": 11,
   "metadata": {},
   "outputs": [
    {
     "name": "stdout",
     "output_type": "stream",
     "text": [
      "The model that best fit is random forest classifier with:\n",
      "0.7241379310344828\n"
     ]
    }
   ],
   "source": [
    "rf = make_pipeline(\n",
    "    StandardScaler(),\n",
    "    RandomForestClassifier(n_estimators=400,max_depth=8)\n",
    "    )\n",
    "\n",
    "rf.fit(X_train,y_train)\n",
    "\n",
    "print('The model that best fit is random forest classifier with:')\n",
    "print(rf.score(X_valid,y_valid))"
   ]
  },
  {
   "cell_type": "code",
   "execution_count": 12,
   "metadata": {},
   "outputs": [],
   "source": [
    "data = labelled.iloc[:,[2,3,4,5,6,7,8,9,10,11,12,13,14,15,16,17,18,19,20,21,22,23,24,25,26,27,28,29,30,31,32,33,34,35,36,37,38,39,40,41,42,43,44,45,46,47,48,49,50,51,52,53,54,55,56,57,58,59,60,61]]\n",
    "predictions = rf.predict(data)\n",
    "#print(predictions)"
   ]
  },
  {
   "cell_type": "code",
   "execution_count": 13,
   "metadata": {},
   "outputs": [],
   "source": [
    "# pd.Series(predictions).to_csv(sys.argv[3], index=False, header=False)"
   ]
  },
  {
   "cell_type": "code",
   "execution_count": null,
   "metadata": {},
   "outputs": [],
   "source": []
  }
 ],
 "metadata": {
  "kernelspec": {
   "display_name": "Python 3",
   "language": "python",
   "name": "python3"
  },
  "language_info": {
   "codemirror_mode": {
    "name": "ipython",
    "version": 3
   },
   "file_extension": ".py",
   "mimetype": "text/x-python",
   "name": "python",
   "nbconvert_exporter": "python",
   "pygments_lexer": "ipython3",
   "version": "3.7.3"
  }
 },
 "nbformat": 4,
 "nbformat_minor": 2
}
