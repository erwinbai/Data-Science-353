{
 "cells": [
  {
   "cell_type": "code",
   "execution_count": 1,
   "metadata": {},
   "outputs": [],
   "source": [
    "import numpy as np\n",
    "import pandas as pd\n",
    "import sys\n",
    "import difflib"
   ]
  },
  {
   "cell_type": "code",
   "execution_count": 2,
   "metadata": {},
   "outputs": [],
   "source": [
    "def remove(element):\n",
    "    #rstrip() idea is from https://www.programiz.com/python-programming/methods/string/rstrip\n",
    "    return element.rstrip()  #helps with removing '|n' behind moive title\n",
    "vec_remove =  np.vectorize(remove)\n",
    "\n",
    "input1 = 'movie_list.txt'\n",
    "input2 = 'movie_ratings.csv'\n",
    "\n",
    "#input1 = sys.argv[1]\n",
    "#input2 = sys.argv[2]"
   ]
  },
  {
   "cell_type": "code",
   "execution_count": 4,
   "metadata": {},
   "outputs": [],
   "source": [
    "data_list = open(input1).readlines()\n",
    "data = pd.DataFrame(\n",
    "    \n",
    "    data_list, \n",
    "    columns = ['title']\n",
    "\n",
    ")  # applying removing for '\\n'\n",
    "#data"
   ]
  },
  {
   "cell_type": "code",
   "execution_count": null,
   "metadata": {},
   "outputs": [],
   "source": [
    "def good_enough(rating):\n",
    "#Reference from given site on instructions for \n",
    "#https://docs.python.org/3/library/difflib.html #difflib.get_close_matches\n",
    "    tmp = difflib.get_close_matches(rating,data['title'])\n",
    "    # Create a list with close enough matches and return the first one tmp[0] as our title\n",
    "    if len(tmp)==0:\n",
    "        return None # cant match with anything\n",
    "    else:\n",
    "        return tmp[0]\n",
    "    \n",
    "close_match = np.vectorize(good_enough)"
   ]
  },
  {
   "cell_type": "code",
   "execution_count": null,
   "metadata": {},
   "outputs": [],
   "source": [
    "data_rating = pd.read_csv(input2)\n",
    "data_rating"
   ]
  },
  {
   "cell_type": "code",
   "execution_count": null,
   "metadata": {},
   "outputs": [],
   "source": [
    "data_rating['title'] = close_match(data_rating['title'])\n",
    "data_rating"
   ]
  },
  {
   "cell_type": "code",
   "execution_count": null,
   "metadata": {},
   "outputs": [],
   "source": [
    "output = data_rating.groupby(['title']).mean()\n",
    "# output1 = np.mean(output)  # this did not work since numpy operation are not valid with grouby. \n",
    "#system suggested using .groupby(...).mean() instead\n",
    "#How to round using website belowin format of numpy.around(a,decimals=0)\n",
    "#https://docs.scipy.org/doc/numpy/reference/generated/numpy.around.html\n",
    "final_output = np.around(output, decimals=2)\n",
    "final_output\n",
    "#output"
   ]
  },
  {
   "cell_type": "code",
   "execution_count": null,
   "metadata": {},
   "outputs": [],
   "source": [
    "final_output.to_csv(sys.argv[3], header=False, index=True)"
   ]
  },
  {
   "cell_type": "code",
   "execution_count": null,
   "metadata": {},
   "outputs": [],
   "source": []
  },
  {
   "cell_type": "code",
   "execution_count": null,
   "metadata": {},
   "outputs": [],
   "source": []
  }
 ],
 "metadata": {
  "kernelspec": {
   "display_name": "Python 3",
   "language": "python",
   "name": "python3"
  },
  "language_info": {
   "codemirror_mode": {
    "name": "ipython",
    "version": 3
   },
   "file_extension": ".py",
   "mimetype": "text/x-python",
   "name": "python",
   "nbconvert_exporter": "python",
   "pygments_lexer": "ipython3",
   "version": "3.7.3"
  }
 },
 "nbformat": 4,
 "nbformat_minor": 2
}
